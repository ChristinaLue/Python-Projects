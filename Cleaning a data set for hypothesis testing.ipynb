{
 "cells": [
  {
   "cell_type": "code",
   "execution_count": null,
   "id": "5dfce7f7",
   "metadata": {},
   "outputs": [],
   "source": [
    "\"\"\"\n",
    "The aim of this project is to perform some hypothesis testing on a dataset containing heart disease data collected in Cleveland\n",
    "in 1988. The data were taken from the UCI Machine Learning Repository. \n",
    "\n",
    "In this project the Cleveland - data of 303 probands were downloaded and cleaned for hypothesis testing. Then the actual\n",
    "hypothesis testing was performed. The test used were the t-test, the ANOVA and Tukey test and finally the Chi2 - test.\n",
    "\"\"\""
   ]
  },
  {
   "cell_type": "code",
   "execution_count": 15,
   "id": "9cadec09",
   "metadata": {},
   "outputs": [],
   "source": [
    "import pandas as pd\n",
    "import numpy as np\n",
    "import matplotlib.pyplot as plt\n",
    "import seaborn as sns"
   ]
  },
  {
   "cell_type": "code",
   "execution_count": 2,
   "id": "a2c79374",
   "metadata": {},
   "outputs": [
    {
     "data": {
      "text/plain": [
       "'\\nAttribute Information:\\n\\nOnly 14 attributes used:\\n1. #3 (age)\\n2. #4 (sex)\\n3. #9 (cp)\\n4. #10 (trestbps)\\n5. #12 (chol)\\n6. #16 (fbs)\\n7. #19 (restecg)\\n8. #32 (thalach)\\n9. #38 (exang)\\n10. #40 (oldpeak)\\n11. #41 (slope)\\n12. #44 (ca)\\n13. #51 (thal)\\n14. #58 (num) (the predicted attribute)\\n\\nComplete attribute documentation:\\n1 id: patient identification number\\n2 ccf: social security number (I replaced this with a dummy value of 0)\\n3 age: age in years\\n4 sex: sex (1 = male; 0 = female)\\n5 painloc: chest pain location (1 = substernal; 0 = otherwise)\\n6 painexer (1 = provoked by exertion; 0 = otherwise)\\n7 relrest (1 = relieved after rest; 0 = otherwise)\\n8 pncaden (sum of 5, 6, and 7)\\n9 cp: chest pain type\\n-- Value 1: typical angina\\n-- Value 2: atypical angina\\n-- Value 3: non-anginal pain\\n-- Value 4: asymptomatic\\n10 trestbps: resting blood pressure (in mm Hg on admission to the hospital)\\n11 htn\\n12 chol: serum cholestoral in mg/dl\\n13 smoke: I believe this is 1 = yes; 0 = no (is or is not a smoker)\\n14 cigs (cigarettes per day)\\n15 years (number of years as a smoker)\\n16 fbs: (fasting blood sugar > 120 mg/dl) (1 = true; 0 = false)\\n17 dm (1 = history of diabetes; 0 = no such history)\\n18 famhist: family history of coronary artery disease (1 = yes; 0 = no)\\n19 restecg: resting electrocardiographic results\\n-- Value 0: normal\\n-- Value 1: having ST-T wave abnormality (T wave inversions and/or ST elevation or depression of > 0.05 mV)\\n-- Value 2: showing probable or definite left ventricular hypertrophy by Estes\\' criteria\\n20 ekgmo (month of exercise ECG reading)\\n21 ekgday(day of exercise ECG reading)\\n22 ekgyr (year of exercise ECG reading)\\n23 dig (digitalis used furing exercise ECG: 1 = yes; 0 = no)\\n24 prop (Beta blocker used during exercise ECG: 1 = yes; 0 = no)\\n25 nitr (nitrates used during exercise ECG: 1 = yes; 0 = no)\\n26 pro (calcium channel blocker used during exercise ECG: 1 = yes; 0 = no)\\n27 diuretic (diuretic used used during exercise ECG: 1 = yes; 0 = no)\\n28 proto: exercise protocol\\n1 = Bruce\\n2 = Kottus\\n3 = McHenry\\n4 = fast Balke\\n5 = Balke\\n6 = Noughton\\n7 = bike 150 kpa min/min (Not sure if \"kpa min/min\" is what was written!)\\n8 = bike 125 kpa min/min\\n9 = bike 100 kpa min/min\\n10 = bike 75 kpa min/min\\n11 = bike 50 kpa min/min\\n12 = arm ergometer\\n29 thaldur: duration of exercise test in minutes\\n30 thaltime: time when ST measure depression was noted\\n31 met: mets achieved\\n32 thalach: maximum heart rate achieved\\n33 thalrest: resting heart rate\\n34 tpeakbps: peak exercise blood pressure (first of 2 parts)\\n35 tpeakbpd: peak exercise blood pressure (second of 2 parts)\\n36 dummy\\n37 trestbpd: resting blood pressure\\n38 exang: exercise induced angina (1 = yes; 0 = no)\\n39 xhypo: (1 = yes; 0 = no)\\n40 oldpeak = ST depression induced by exercise relative to rest\\n41 slope: the slope of the peak exercise ST segment\\n-- Value 1: upsloping\\n-- Value 2: flat\\n-- Value 3: downsloping\\n42 rldv5: height at rest\\n43 rldv5e: height at peak exercise\\n44 ca: number of major vessels (0-3) colored by flourosopy\\n45 restckm: irrelevant\\n46 exerckm: irrelevant\\n47 restef: rest raidonuclid (sp?) ejection fraction\\n48 restwm: rest wall (sp?) motion abnormality\\n0 = none\\n1 = mild or moderate\\n2 = moderate or severe\\n3 = akinesis or dyskmem (sp?)\\n49 exeref: exercise radinalid (sp?) ejection fraction\\n50 exerwm: exercise wall (sp?) motion\\n51 thal: 3 = normal; 6 = fixed defect; 7 = reversable defect\\n52 thalsev: not used\\n53 thalpul: not used\\n54 earlobe: not used\\n55 cmo: month of cardiac cath (sp?) (perhaps \"call\")\\n56 cday: day of cardiac cath (sp?)\\n57 cyr: year of cardiac cath (sp?)\\n58 num: diagnosis of heart disease (angiographic disease status)\\n-- Value 0: < 50% diameter narrowing\\n-- Value 1: > 50% diameter narrowing\\n(in any major vessel: attributes 59 through 68 are vessels)\\n59 lmt\\n60 ladprox\\n61 laddist\\n62 diag\\n63 cxmain\\n64 ramus\\n65 om1\\n66 om2\\n67 rcaprox\\n68 rcadist\\n69 lvx1: not used\\n70 lvx2: not used\\n71 lvx3: not used\\n72 lvx4: not used\\n73 lvf: not used\\n74 cathef: not used\\n75 junk: not used\\n76 name: last name of patient (I replaced this with the dummy string \"name\")\\n\\nnum = The \"goal\" field refers to the presence of heart disease in the patient.\\n    It is integer valued from 0 (no presence) to 4. Experiments with the Cleveland database have concentrated on simply attempting \\n    to distinguish presence (values 1,2,3,4) from absence (value 0).\\n'"
      ]
     },
     "execution_count": 2,
     "metadata": {},
     "output_type": "execute_result"
    }
   ],
   "source": [
    "\"\"\"\n",
    "To gain some insight of the downloaded data some explanatory informations from UCI were copied to this file:\n",
    "\n",
    "Attribute Information:\n",
    "\n",
    "Only 14 attributes used:\n",
    "1. #3 (age)\n",
    "2. #4 (sex)\n",
    "3. #9 (cp)\n",
    "4. #10 (trestbps)\n",
    "5. #12 (chol)\n",
    "6. #16 (fbs)\n",
    "7. #19 (restecg)\n",
    "8. #32 (thalach)\n",
    "9. #38 (exang)\n",
    "10. #40 (oldpeak)\n",
    "11. #41 (slope)\n",
    "12. #44 (ca)\n",
    "13. #51 (thal)\n",
    "14. #58 (num) (the predicted attribute)\n",
    "\n",
    "Complete attribute documentation:\n",
    "1 id: patient identification number\n",
    "2 ccf: social security number (I replaced this with a dummy value of 0)\n",
    "3 age: age in years\n",
    "4 sex: sex (1 = male; 0 = female)\n",
    "5 painloc: chest pain location (1 = substernal; 0 = otherwise)\n",
    "6 painexer (1 = provoked by exertion; 0 = otherwise)\n",
    "7 relrest (1 = relieved after rest; 0 = otherwise)\n",
    "8 pncaden (sum of 5, 6, and 7)\n",
    "9 cp: chest pain type\n",
    "-- Value 1: typical angina\n",
    "-- Value 2: atypical angina\n",
    "-- Value 3: non-anginal pain\n",
    "-- Value 4: asymptomatic\n",
    "10 trestbps: resting blood pressure (in mm Hg on admission to the hospital)\n",
    "11 htn\n",
    "12 chol: serum cholestoral in mg/dl\n",
    "13 smoke: I believe this is 1 = yes; 0 = no (is or is not a smoker)\n",
    "14 cigs (cigarettes per day)\n",
    "15 years (number of years as a smoker)\n",
    "16 fbs: (fasting blood sugar > 120 mg/dl) (1 = true; 0 = false)\n",
    "17 dm (1 = history of diabetes; 0 = no such history)\n",
    "18 famhist: family history of coronary artery disease (1 = yes; 0 = no)\n",
    "19 restecg: resting electrocardiographic results\n",
    "-- Value 0: normal\n",
    "-- Value 1: having ST-T wave abnormality (T wave inversions and/or ST elevation or depression of > 0.05 mV)\n",
    "-- Value 2: showing probable or definite left ventricular hypertrophy by Estes' criteria\n",
    "20 ekgmo (month of exercise ECG reading)\n",
    "21 ekgday(day of exercise ECG reading)\n",
    "22 ekgyr (year of exercise ECG reading)\n",
    "23 dig (digitalis used furing exercise ECG: 1 = yes; 0 = no)\n",
    "24 prop (Beta blocker used during exercise ECG: 1 = yes; 0 = no)\n",
    "25 nitr (nitrates used during exercise ECG: 1 = yes; 0 = no)\n",
    "26 pro (calcium channel blocker used during exercise ECG: 1 = yes; 0 = no)\n",
    "27 diuretic (diuretic used used during exercise ECG: 1 = yes; 0 = no)\n",
    "28 proto: exercise protocol\n",
    "1 = Bruce\n",
    "2 = Kottus\n",
    "3 = McHenry\n",
    "4 = fast Balke\n",
    "5 = Balke\n",
    "6 = Noughton\n",
    "7 = bike 150 kpa min/min (Not sure if \"kpa min/min\" is what was written!)\n",
    "8 = bike 125 kpa min/min\n",
    "9 = bike 100 kpa min/min\n",
    "10 = bike 75 kpa min/min\n",
    "11 = bike 50 kpa min/min\n",
    "12 = arm ergometer\n",
    "29 thaldur: duration of exercise test in minutes\n",
    "30 thaltime: time when ST measure depression was noted\n",
    "31 met: mets achieved\n",
    "32 thalach: maximum heart rate achieved\n",
    "33 thalrest: resting heart rate\n",
    "34 tpeakbps: peak exercise blood pressure (first of 2 parts)\n",
    "35 tpeakbpd: peak exercise blood pressure (second of 2 parts)\n",
    "36 dummy\n",
    "37 trestbpd: resting blood pressure\n",
    "38 exang: exercise induced angina (1 = yes; 0 = no)\n",
    "39 xhypo: (1 = yes; 0 = no)\n",
    "40 oldpeak = ST depression induced by exercise relative to rest\n",
    "41 slope: the slope of the peak exercise ST segment\n",
    "-- Value 1: upsloping\n",
    "-- Value 2: flat\n",
    "-- Value 3: downsloping\n",
    "42 rldv5: height at rest\n",
    "43 rldv5e: height at peak exercise\n",
    "44 ca: number of major vessels (0-3) colored by flourosopy\n",
    "45 restckm: irrelevant\n",
    "46 exerckm: irrelevant\n",
    "47 restef: rest raidonuclid (sp?) ejection fraction\n",
    "48 restwm: rest wall (sp?) motion abnormality\n",
    "0 = none\n",
    "1 = mild or moderate\n",
    "2 = moderate or severe\n",
    "3 = akinesis or dyskmem (sp?)\n",
    "49 exeref: exercise radinalid (sp?) ejection fraction\n",
    "50 exerwm: exercise wall (sp?) motion\n",
    "51 thal: 3 = normal; 6 = fixed defect; 7 = reversable defect\n",
    "52 thalsev: not used\n",
    "53 thalpul: not used\n",
    "54 earlobe: not used\n",
    "55 cmo: month of cardiac cath (sp?) (perhaps \"call\")\n",
    "56 cday: day of cardiac cath (sp?)\n",
    "57 cyr: year of cardiac cath (sp?)\n",
    "58 num: diagnosis of heart disease (angiographic disease status)\n",
    "-- Value 0: < 50% diameter narrowing\n",
    "-- Value 1: > 50% diameter narrowing\n",
    "(in any major vessel: attributes 59 through 68 are vessels)\n",
    "59 lmt\n",
    "60 ladprox\n",
    "61 laddist\n",
    "62 diag\n",
    "63 cxmain\n",
    "64 ramus\n",
    "65 om1\n",
    "66 om2\n",
    "67 rcaprox\n",
    "68 rcadist\n",
    "69 lvx1: not used\n",
    "70 lvx2: not used\n",
    "71 lvx3: not used\n",
    "72 lvx4: not used\n",
    "73 lvf: not used\n",
    "74 cathef: not used\n",
    "75 junk: not used\n",
    "76 name: last name of patient (I replaced this with the dummy string \"name\")\n",
    "\n",
    "num = The \"goal\" field refers to the presence of heart disease in the patient.\n",
    "    It is integer valued from 0 (no presence) to 4. Experiments with the Cleveland database have concentrated on simply attempting \n",
    "    to distinguish presence (values 1,2,3,4) from absence (value 0).\n",
    "\"\"\""
   ]
  },
  {
   "cell_type": "code",
   "execution_count": 3,
   "id": "a95c229b",
   "metadata": {},
   "outputs": [],
   "source": [
    "# The Cleveland data from UCI are imported and the columns are getting their corresponding names according to the attribute in-\n",
    "# formations:\n",
    "df = pd.read_csv(\"https://archive.ics.uci.edu/ml/machine-learning-databases/heart-disease/processed.cleveland.data\",\n",
    "                names = [\"age\",\"sex\",\"cp\",\"trestbps\",\"chol\",\"fbs\",\"restecg\",\"thalach\",\"exang\",\"oldpeak\",\"slope\",\"ca\",\"thal\",\"num\"])"
   ]
  },
  {
   "cell_type": "code",
   "execution_count": 4,
   "id": "66a3029c",
   "metadata": {},
   "outputs": [
    {
     "data": {
      "text/html": [
       "<div>\n",
       "<style scoped>\n",
       "    .dataframe tbody tr th:only-of-type {\n",
       "        vertical-align: middle;\n",
       "    }\n",
       "\n",
       "    .dataframe tbody tr th {\n",
       "        vertical-align: top;\n",
       "    }\n",
       "\n",
       "    .dataframe thead th {\n",
       "        text-align: right;\n",
       "    }\n",
       "</style>\n",
       "<table border=\"1\" class=\"dataframe\">\n",
       "  <thead>\n",
       "    <tr style=\"text-align: right;\">\n",
       "      <th></th>\n",
       "      <th>age</th>\n",
       "      <th>sex</th>\n",
       "      <th>cp</th>\n",
       "      <th>trestbps</th>\n",
       "      <th>chol</th>\n",
       "      <th>fbs</th>\n",
       "      <th>restecg</th>\n",
       "      <th>thalach</th>\n",
       "      <th>exang</th>\n",
       "      <th>oldpeak</th>\n",
       "      <th>slope</th>\n",
       "      <th>ca</th>\n",
       "      <th>thal</th>\n",
       "      <th>num</th>\n",
       "    </tr>\n",
       "  </thead>\n",
       "  <tbody>\n",
       "    <tr>\n",
       "      <th>0</th>\n",
       "      <td>63.0</td>\n",
       "      <td>1.0</td>\n",
       "      <td>1.0</td>\n",
       "      <td>145.0</td>\n",
       "      <td>233.0</td>\n",
       "      <td>1.0</td>\n",
       "      <td>2.0</td>\n",
       "      <td>150.0</td>\n",
       "      <td>0.0</td>\n",
       "      <td>2.3</td>\n",
       "      <td>3.0</td>\n",
       "      <td>0.0</td>\n",
       "      <td>6.0</td>\n",
       "      <td>0</td>\n",
       "    </tr>\n",
       "    <tr>\n",
       "      <th>1</th>\n",
       "      <td>67.0</td>\n",
       "      <td>1.0</td>\n",
       "      <td>4.0</td>\n",
       "      <td>160.0</td>\n",
       "      <td>286.0</td>\n",
       "      <td>0.0</td>\n",
       "      <td>2.0</td>\n",
       "      <td>108.0</td>\n",
       "      <td>1.0</td>\n",
       "      <td>1.5</td>\n",
       "      <td>2.0</td>\n",
       "      <td>3.0</td>\n",
       "      <td>3.0</td>\n",
       "      <td>2</td>\n",
       "    </tr>\n",
       "    <tr>\n",
       "      <th>2</th>\n",
       "      <td>67.0</td>\n",
       "      <td>1.0</td>\n",
       "      <td>4.0</td>\n",
       "      <td>120.0</td>\n",
       "      <td>229.0</td>\n",
       "      <td>0.0</td>\n",
       "      <td>2.0</td>\n",
       "      <td>129.0</td>\n",
       "      <td>1.0</td>\n",
       "      <td>2.6</td>\n",
       "      <td>2.0</td>\n",
       "      <td>2.0</td>\n",
       "      <td>7.0</td>\n",
       "      <td>1</td>\n",
       "    </tr>\n",
       "    <tr>\n",
       "      <th>3</th>\n",
       "      <td>37.0</td>\n",
       "      <td>1.0</td>\n",
       "      <td>3.0</td>\n",
       "      <td>130.0</td>\n",
       "      <td>250.0</td>\n",
       "      <td>0.0</td>\n",
       "      <td>0.0</td>\n",
       "      <td>187.0</td>\n",
       "      <td>0.0</td>\n",
       "      <td>3.5</td>\n",
       "      <td>3.0</td>\n",
       "      <td>0.0</td>\n",
       "      <td>3.0</td>\n",
       "      <td>0</td>\n",
       "    </tr>\n",
       "    <tr>\n",
       "      <th>4</th>\n",
       "      <td>41.0</td>\n",
       "      <td>0.0</td>\n",
       "      <td>2.0</td>\n",
       "      <td>130.0</td>\n",
       "      <td>204.0</td>\n",
       "      <td>0.0</td>\n",
       "      <td>2.0</td>\n",
       "      <td>172.0</td>\n",
       "      <td>0.0</td>\n",
       "      <td>1.4</td>\n",
       "      <td>1.0</td>\n",
       "      <td>0.0</td>\n",
       "      <td>3.0</td>\n",
       "      <td>0</td>\n",
       "    </tr>\n",
       "  </tbody>\n",
       "</table>\n",
       "</div>"
      ],
      "text/plain": [
       "    age  sex   cp  trestbps   chol  fbs  restecg  thalach  exang  oldpeak  \\\n",
       "0  63.0  1.0  1.0     145.0  233.0  1.0      2.0    150.0    0.0      2.3   \n",
       "1  67.0  1.0  4.0     160.0  286.0  0.0      2.0    108.0    1.0      1.5   \n",
       "2  67.0  1.0  4.0     120.0  229.0  0.0      2.0    129.0    1.0      2.6   \n",
       "3  37.0  1.0  3.0     130.0  250.0  0.0      0.0    187.0    0.0      3.5   \n",
       "4  41.0  0.0  2.0     130.0  204.0  0.0      2.0    172.0    0.0      1.4   \n",
       "\n",
       "   slope   ca thal  num  \n",
       "0    3.0  0.0  6.0    0  \n",
       "1    2.0  3.0  3.0    2  \n",
       "2    2.0  2.0  7.0    1  \n",
       "3    3.0  0.0  3.0    0  \n",
       "4    1.0  0.0  3.0    0  "
      ]
     },
     "execution_count": 4,
     "metadata": {},
     "output_type": "execute_result"
    }
   ],
   "source": [
    "# Examining the dataframe\n",
    "df.head()"
   ]
  },
  {
   "cell_type": "code",
   "execution_count": 5,
   "id": "a2857b9b",
   "metadata": {},
   "outputs": [],
   "source": [
    "# Giving the \"num\" column a more explanatory name. The num column shows the absence and presence of a heart disease where 0 = no\n",
    "# heart disease and 1,2,3,4 = some kind of heart disease\n",
    "df1 = df.rename(columns = {\"num\":\"heart_disease\"})"
   ]
  },
  {
   "cell_type": "code",
   "execution_count": 6,
   "id": "6094bb31",
   "metadata": {},
   "outputs": [],
   "source": [
    "# removing some unnecessary columns for the hypothesis testing:\n",
    "heart = df1.drop(columns = [\"restecg\",\"oldpeak\",\"slope\",\"ca\",\"thal\"])"
   ]
  },
  {
   "cell_type": "code",
   "execution_count": 7,
   "id": "c66c005e",
   "metadata": {
    "scrolled": true
   },
   "outputs": [
    {
     "data": {
      "text/html": [
       "<div>\n",
       "<style scoped>\n",
       "    .dataframe tbody tr th:only-of-type {\n",
       "        vertical-align: middle;\n",
       "    }\n",
       "\n",
       "    .dataframe tbody tr th {\n",
       "        vertical-align: top;\n",
       "    }\n",
       "\n",
       "    .dataframe thead th {\n",
       "        text-align: right;\n",
       "    }\n",
       "</style>\n",
       "<table border=\"1\" class=\"dataframe\">\n",
       "  <thead>\n",
       "    <tr style=\"text-align: right;\">\n",
       "      <th></th>\n",
       "      <th>age</th>\n",
       "      <th>sex</th>\n",
       "      <th>cp</th>\n",
       "      <th>trestbps</th>\n",
       "      <th>chol</th>\n",
       "      <th>fbs</th>\n",
       "      <th>thalach</th>\n",
       "      <th>exang</th>\n",
       "      <th>heart_disease</th>\n",
       "    </tr>\n",
       "  </thead>\n",
       "  <tbody>\n",
       "    <tr>\n",
       "      <th>0</th>\n",
       "      <td>63.0</td>\n",
       "      <td>1.0</td>\n",
       "      <td>1.0</td>\n",
       "      <td>145.0</td>\n",
       "      <td>233.0</td>\n",
       "      <td>1.0</td>\n",
       "      <td>150.0</td>\n",
       "      <td>0.0</td>\n",
       "      <td>0</td>\n",
       "    </tr>\n",
       "    <tr>\n",
       "      <th>1</th>\n",
       "      <td>67.0</td>\n",
       "      <td>1.0</td>\n",
       "      <td>4.0</td>\n",
       "      <td>160.0</td>\n",
       "      <td>286.0</td>\n",
       "      <td>0.0</td>\n",
       "      <td>108.0</td>\n",
       "      <td>1.0</td>\n",
       "      <td>2</td>\n",
       "    </tr>\n",
       "    <tr>\n",
       "      <th>2</th>\n",
       "      <td>67.0</td>\n",
       "      <td>1.0</td>\n",
       "      <td>4.0</td>\n",
       "      <td>120.0</td>\n",
       "      <td>229.0</td>\n",
       "      <td>0.0</td>\n",
       "      <td>129.0</td>\n",
       "      <td>1.0</td>\n",
       "      <td>1</td>\n",
       "    </tr>\n",
       "    <tr>\n",
       "      <th>3</th>\n",
       "      <td>37.0</td>\n",
       "      <td>1.0</td>\n",
       "      <td>3.0</td>\n",
       "      <td>130.0</td>\n",
       "      <td>250.0</td>\n",
       "      <td>0.0</td>\n",
       "      <td>187.0</td>\n",
       "      <td>0.0</td>\n",
       "      <td>0</td>\n",
       "    </tr>\n",
       "    <tr>\n",
       "      <th>4</th>\n",
       "      <td>41.0</td>\n",
       "      <td>0.0</td>\n",
       "      <td>2.0</td>\n",
       "      <td>130.0</td>\n",
       "      <td>204.0</td>\n",
       "      <td>0.0</td>\n",
       "      <td>172.0</td>\n",
       "      <td>0.0</td>\n",
       "      <td>0</td>\n",
       "    </tr>\n",
       "  </tbody>\n",
       "</table>\n",
       "</div>"
      ],
      "text/plain": [
       "    age  sex   cp  trestbps   chol  fbs  thalach  exang  heart_disease\n",
       "0  63.0  1.0  1.0     145.0  233.0  1.0    150.0    0.0              0\n",
       "1  67.0  1.0  4.0     160.0  286.0  0.0    108.0    1.0              2\n",
       "2  67.0  1.0  4.0     120.0  229.0  0.0    129.0    1.0              1\n",
       "3  37.0  1.0  3.0     130.0  250.0  0.0    187.0    0.0              0\n",
       "4  41.0  0.0  2.0     130.0  204.0  0.0    172.0    0.0              0"
      ]
     },
     "execution_count": 7,
     "metadata": {},
     "output_type": "execute_result"
    }
   ],
   "source": [
    "heart.head()"
   ]
  },
  {
   "cell_type": "code",
   "execution_count": 8,
   "id": "c9e761d6",
   "metadata": {},
   "outputs": [],
   "source": [
    "# The later performed hypothesis testing requires some categorical variables. Here the data from the heart_disease column\n",
    "# are transformed to a categorical vairable (absence/presence) using a lambda function:\n",
    "heart[\"heart_disease\"] = heart.heart_disease.apply(lambda disease_value: \"absence\" if disease_value == 0 else \"presence\")\n"
   ]
  },
  {
   "cell_type": "code",
   "execution_count": 9,
   "id": "2b815484",
   "metadata": {},
   "outputs": [],
   "source": [
    "# Doing the same with the sex column:\n",
    "heart[\"sex\"] = heart.sex.apply(lambda value: \"male\" if value == 1 else \"female\")"
   ]
  },
  {
   "cell_type": "code",
   "execution_count": 12,
   "id": "3672d083",
   "metadata": {},
   "outputs": [],
   "source": [
    "# ...and with the cp (chest pain type) column:\n",
    "heart[\"cp\"] = heart.cp.apply(lambda cp_value: \"typical angina\" if cp_value == 1 else (\"atypical angina\" if cp_value == 2 else\n",
    "                                                                                      (\"non-anginal pain\" if cp_value == 3\n",
    "                                                                                       else \"asymptomatic\")))"
   ]
  },
  {
   "cell_type": "code",
   "execution_count": 13,
   "id": "f58cbc77",
   "metadata": {},
   "outputs": [
    {
     "data": {
      "text/html": [
       "<div>\n",
       "<style scoped>\n",
       "    .dataframe tbody tr th:only-of-type {\n",
       "        vertical-align: middle;\n",
       "    }\n",
       "\n",
       "    .dataframe tbody tr th {\n",
       "        vertical-align: top;\n",
       "    }\n",
       "\n",
       "    .dataframe thead th {\n",
       "        text-align: right;\n",
       "    }\n",
       "</style>\n",
       "<table border=\"1\" class=\"dataframe\">\n",
       "  <thead>\n",
       "    <tr style=\"text-align: right;\">\n",
       "      <th></th>\n",
       "      <th>age</th>\n",
       "      <th>sex</th>\n",
       "      <th>cp</th>\n",
       "      <th>trestbps</th>\n",
       "      <th>chol</th>\n",
       "      <th>fbs</th>\n",
       "      <th>thalach</th>\n",
       "      <th>exang</th>\n",
       "      <th>heart_disease</th>\n",
       "    </tr>\n",
       "  </thead>\n",
       "  <tbody>\n",
       "    <tr>\n",
       "      <th>0</th>\n",
       "      <td>63.0</td>\n",
       "      <td>male</td>\n",
       "      <td>typical angina</td>\n",
       "      <td>145.0</td>\n",
       "      <td>233.0</td>\n",
       "      <td>1.0</td>\n",
       "      <td>150.0</td>\n",
       "      <td>0.0</td>\n",
       "      <td>absence</td>\n",
       "    </tr>\n",
       "    <tr>\n",
       "      <th>1</th>\n",
       "      <td>67.0</td>\n",
       "      <td>male</td>\n",
       "      <td>asymptomatic</td>\n",
       "      <td>160.0</td>\n",
       "      <td>286.0</td>\n",
       "      <td>0.0</td>\n",
       "      <td>108.0</td>\n",
       "      <td>1.0</td>\n",
       "      <td>presence</td>\n",
       "    </tr>\n",
       "    <tr>\n",
       "      <th>2</th>\n",
       "      <td>67.0</td>\n",
       "      <td>male</td>\n",
       "      <td>asymptomatic</td>\n",
       "      <td>120.0</td>\n",
       "      <td>229.0</td>\n",
       "      <td>0.0</td>\n",
       "      <td>129.0</td>\n",
       "      <td>1.0</td>\n",
       "      <td>presence</td>\n",
       "    </tr>\n",
       "    <tr>\n",
       "      <th>3</th>\n",
       "      <td>37.0</td>\n",
       "      <td>male</td>\n",
       "      <td>non-anginal pain</td>\n",
       "      <td>130.0</td>\n",
       "      <td>250.0</td>\n",
       "      <td>0.0</td>\n",
       "      <td>187.0</td>\n",
       "      <td>0.0</td>\n",
       "      <td>absence</td>\n",
       "    </tr>\n",
       "    <tr>\n",
       "      <th>4</th>\n",
       "      <td>41.0</td>\n",
       "      <td>female</td>\n",
       "      <td>atypical angina</td>\n",
       "      <td>130.0</td>\n",
       "      <td>204.0</td>\n",
       "      <td>0.0</td>\n",
       "      <td>172.0</td>\n",
       "      <td>0.0</td>\n",
       "      <td>absence</td>\n",
       "    </tr>\n",
       "  </tbody>\n",
       "</table>\n",
       "</div>"
      ],
      "text/plain": [
       "    age     sex                cp  trestbps   chol  fbs  thalach  exang  \\\n",
       "0  63.0    male    typical angina     145.0  233.0  1.0    150.0    0.0   \n",
       "1  67.0    male      asymptomatic     160.0  286.0  0.0    108.0    1.0   \n",
       "2  67.0    male      asymptomatic     120.0  229.0  0.0    129.0    1.0   \n",
       "3  37.0    male  non-anginal pain     130.0  250.0  0.0    187.0    0.0   \n",
       "4  41.0  female   atypical angina     130.0  204.0  0.0    172.0    0.0   \n",
       "\n",
       "  heart_disease  \n",
       "0       absence  \n",
       "1      presence  \n",
       "2      presence  \n",
       "3       absence  \n",
       "4       absence  "
      ]
     },
     "execution_count": 13,
     "metadata": {},
     "output_type": "execute_result"
    }
   ],
   "source": [
    "\"\"\"\n",
    "Now the \"heart\" dataframe contains the following variables:\n",
    "\n",
    "age: age in years\n",
    "sex: sex assigned at birth; 'male' or 'female'\n",
    "trestbps: resting blood pressure in mm Hg\n",
    "chol: serum cholesterol in mg/dl\n",
    "cp: chest pain type ('typical angina', 'atypical angina', 'non-anginal pain', or 'asymptomatic')\n",
    "exang: whether the patient experiences exercise-induced angina (1: yes; 0: no)\n",
    "fbs: whether the patient’s fasting blood sugar is >120 mg/dl (1: yes; 0: no)\n",
    "thalach: maximum heart rate achieved in exercise test\n",
    "heart_disease: whether the patient is found to have heart disease ('presence': diagnosed with heart disease; 'absence': no heart disease)\n",
    "We inspect the first few rows of data using the .head() method.\n",
    "\"\"\"\n",
    "heart.head()"
   ]
  },
  {
   "cell_type": "code",
   "execution_count": 14,
   "id": "44f5f38a",
   "metadata": {},
   "outputs": [
    {
     "name": "stdout",
     "output_type": "stream",
     "text": [
      "<class 'pandas.core.frame.DataFrame'>\n",
      "RangeIndex: 303 entries, 0 to 302\n",
      "Data columns (total 9 columns):\n",
      " #   Column         Non-Null Count  Dtype  \n",
      "---  ------         --------------  -----  \n",
      " 0   age            303 non-null    float64\n",
      " 1   sex            303 non-null    object \n",
      " 2   cp             303 non-null    object \n",
      " 3   trestbps       303 non-null    float64\n",
      " 4   chol           303 non-null    float64\n",
      " 5   fbs            303 non-null    float64\n",
      " 6   thalach        303 non-null    float64\n",
      " 7   exang          303 non-null    float64\n",
      " 8   heart_disease  303 non-null    object \n",
      "dtypes: float64(6), object(3)\n",
      "memory usage: 21.4+ KB\n"
     ]
    }
   ],
   "source": [
    "\"\"\"\n",
    "We might also want to check the dataframe for missing values to make sure that the hypothesis tesing includes all probands data\n",
    "\"\"\"\n",
    "heart.info()\n",
    "# There are no missing values in any of the columns since there are 303 values in every column and\n",
    "#the info table shows 303 non-null - values for all columns. "
   ]
  },
  {
   "cell_type": "code",
   "execution_count": 17,
   "id": "8f581507",
   "metadata": {},
   "outputs": [
    {
     "data": {
      "text/plain": [
       "<AxesSubplot:xlabel='thalach', ylabel='heart_disease'>"
      ]
     },
     "execution_count": 17,
     "metadata": {},
     "output_type": "execute_result"
    },
    {
     "data": {
      "image/png": "[encoded data removed]",
      "text/plain": [
       "<Figure size 640x480 with 1 Axes>"
      ]
     },
     "metadata": {},
     "output_type": "display_data"
    }
   ],
   "source": [
    "\"\"\"\n",
    "Each of the patients in this dataset underwent an exercise test, during which their heart rate was monitored.\n",
    "For each patient, thalach gives us the highest heart rate that the patient achieved during this test.\n",
    "\n",
    "It might be interesting to examine if thalach associated with whether or not a patient will ultimately be diagnosed with heart disease?\n",
    "Here a poxplot is used to plot side by side box plots of thalach for patients who were and were not diagnosed with \n",
    "heart disease.\n",
    "\"\"\"\n",
    "\n",
    "sns.boxplot(x=heart.thalach, y=heart.heart_disease)\n",
    "\n",
    "\"\"\"\n",
    "There is a slight difference in max heart rates, where the people without diagnosed heart disease had a slightly higher max rate.\n",
    "The median of the absence group is about 20 higher and the minimum heart rate more than 20 higher).\n",
    "From the plots the standard deviation from the presence group may seem a bit higher than from the absence group.\n",
    "We want to examine this further by calculating mean and median differences and the ratio of the standard deviation. \n",
    "\"\"\""
   ]
  },
  {
   "cell_type": "code",
   "execution_count": 19,
   "id": "5e86fcd4",
   "metadata": {},
   "outputs": [
    {
     "name": "stdout",
     "output_type": "stream",
     "text": [
      "1      108.0\n",
      "2      129.0\n",
      "6      160.0\n",
      "8      147.0\n",
      "9      155.0\n",
      "       ...  \n",
      "297    123.0\n",
      "298    132.0\n",
      "299    141.0\n",
      "300    115.0\n",
      "301    174.0\n",
      "Name: thalach, Length: 139, dtype: float64\n",
      "0      150.0\n",
      "3      187.0\n",
      "4      172.0\n",
      "5      178.0\n",
      "7      163.0\n",
      "       ...  \n",
      "288    163.0\n",
      "289    169.0\n",
      "291    166.0\n",
      "295    182.0\n",
      "302    173.0\n",
      "Name: thalach, Length: 164, dtype: float64\n"
     ]
    }
   ],
   "source": [
    "thalach_hd = heart.thalach[heart.heart_disease == \"presence\"]\n",
    "thalach_no_hd = heart.thalach[heart.heart_disease == \"absence\"]\n",
    "print(thalach_hd)\n",
    "print(thalach_no_hd)"
   ]
  },
  {
   "cell_type": "code",
   "execution_count": 20,
   "id": "4d1967e0",
   "metadata": {},
   "outputs": [],
   "source": [
    "mean_thalach_hd = np.mean(thalach_hd)\n",
    "mean_thalach_no_hd = np.mean(thalach_no_hd)"
   ]
  },
  {
   "cell_type": "code",
   "execution_count": 21,
   "id": "5d028f74",
   "metadata": {},
   "outputs": [
    {
     "name": "stdout",
     "output_type": "stream",
     "text": [
      "139.25899280575538\n",
      "158.3780487804878\n",
      "-19.11905597473242\n"
     ]
    }
   ],
   "source": [
    "# Calculating mean and mean differences\n",
    "print(mean_thalach_hd)\n",
    "print(mean_thalach_no_hd)\n",
    "print(mean_thalach_hd-mean_thalach_no_hd)"
   ]
  },
  {
   "cell_type": "code",
   "execution_count": 22,
   "id": "38c9aabf",
   "metadata": {},
   "outputs": [
    {
     "name": "stdout",
     "output_type": "stream",
     "text": [
      "142.0\n",
      "161.0\n",
      "-19.0\n"
     ]
    }
   ],
   "source": [
    "# calculating median and median differences\n",
    "median_hd = np.median(thalach_hd)\n",
    "print(median_hd)\n",
    "median_no_hd = np.median(thalach_no_hd)\n",
    "print(median_no_hd)\n",
    "print(median_hd - median_no_hd)\n",
    "\n",
    "# Both the median and mean differences are quite big hinting that there might be an assoication between the variables."
   ]
  },
  {
   "cell_type": "code",
   "execution_count": 25,
   "id": "10ef9dea",
   "metadata": {},
   "outputs": [
    {
     "name": "stdout",
     "output_type": "stream",
     "text": [
      "22.511815644009623\n",
      "19.14045660687256\n",
      "0.8502404652538909\n"
     ]
    }
   ],
   "source": [
    "# Calculation standard deviation and ratio\n",
    "dev_hd = np.std(thalach_hd)\n",
    "print(dev_hd)\n",
    "\n",
    "dev_no_hd = np.std(thalach_no_hd)\n",
    "print(dev_no_hd)\n",
    "\n",
    "print(dev_no_hd/dev_hd) # The ratio of the standard deviation is slightly too little (has best to be min 0.9) to make a good\n",
    "# candidate for hypothesis testing but we'll proceed anyways."
   ]
  },
  {
   "cell_type": "code",
   "execution_count": 27,
   "id": "28155ccf",
   "metadata": {},
   "outputs": [
    {
     "name": "stdout",
     "output_type": "stream",
     "text": [
      "3.456964908430172e-14\n"
     ]
    }
   ],
   "source": [
    "\"\"\"\n",
    "We’d like to find out if the average thalach of a heart disease patient is significantly different from the average thalach \n",
    "for a person without heart disease.\n",
    "\n",
    "The null and alternative hypotheses:\n",
    "\n",
    "Null: The average thalach for a person with heart disease is equal to the average thalach for a person without heart disease.\n",
    "Alternative: The average thalach for a person with heart disease is NOT equal to the average thalach for a person without heart\n",
    "disease.\n",
    "\n",
    "Here we run a two sample t-test to test an association between a binary categorical variable (absence/presence) and a quantitative\n",
    "variable (heart rate)\n",
    "\"\"\"\n",
    "\n",
    "from scipy.stats import ttest_ind\n",
    "tstat, pval = ttest_ind(thalach_hd,thalach_no_hd)\n",
    "print(pval) # p-value = 3.46*10^(-14)\n",
    "\n",
    "# The p-value is much less than 0.05 so the null-hypothesis is rejected and we can conclude that there is a significant difference\n",
    "# between the average heart rate of people with and without heart disease (the average heart rate of people without heart disease\n",
    "# being significantly higher)"
   ]
  },
  {
   "cell_type": "code",
   "execution_count": 33,
   "id": "c285b571",
   "metadata": {},
   "outputs": [
    {
     "data": {
      "image/png": "[encoded data removed]",
      "text/plain": [
       "<Figure size 640x480 with 1 Axes>"
      ]
     },
     "metadata": {},
     "output_type": "display_data"
    },
    {
     "name": "stdout",
     "output_type": "stream",
     "text": [
      "8.955636917529706e-05\n"
     ]
    }
   ],
   "source": [
    "\"\"\"\n",
    "Next we check if there is an association between age and heart disease\n",
    "\n",
    "H0 = the average age for a person with heart disease is equal to the average age for a person with no heart disease\n",
    "H1 = the average age for a person with heart disease is different from the average age for a person with no heart disease\n",
    "\"\"\"\n",
    "# Boxplots:\n",
    "plt.clf()\n",
    "sns.boxplot(x=heart.age, y=heart.heart_disease)\n",
    "plt.show()\n",
    "\n",
    "# The plot highly suggests that the mean (median) age of people without heart disease is significantly lower\n",
    "\n",
    "# T-test\n",
    "age_hd = heart.age[heart.heart_disease == \"presence\"]\n",
    "age_no_hd = heart.age[heart.heart_disease == \"absence\"]\n",
    "\n",
    "tstat, pval = ttest_ind(age_hd,age_no_hd)\n",
    "\n",
    "print(pval) # = 0.00008956\n",
    "# The p-value is below 0.05 so there is a significant difference in mean-age of heart disease and no-heart disease people"
   ]
  },
  {
   "cell_type": "code",
   "execution_count": 35,
   "id": "9bd536fb",
   "metadata": {},
   "outputs": [
    {
     "data": {
      "image/png": "[encoded data removed]",
      "text/plain": [
       "<Figure size 640x480 with 1 Axes>"
      ]
     },
     "metadata": {},
     "output_type": "display_data"
    }
   ],
   "source": [
    "\"\"\"\n",
    "Next, let’s investigate the relationship between thalach (maximum heart rate achieved during exercise) and the type of heart\n",
    "pain a person experiences. We'll start with boxplots!\n",
    "\"\"\"\n",
    "\n",
    "plt.clf()\n",
    "sns.boxplot(x=heart.thalach, y=heart.cp)\n",
    "plt.show()\n",
    "\n",
    "\"\"\"\n",
    "The boxplots suggest that at least the average thalach for the asymptomatic chest pain type is significantly lower than the others\n",
    "\"\"\""
   ]
  },
  {
   "cell_type": "code",
   "execution_count": 36,
   "id": "b618be62",
   "metadata": {},
   "outputs": [],
   "source": [
    "\"\"\"\n",
    "To investigate this further, we'll run an ANOVA and Tukey test.\n",
    "To begin with we save the values of thalach for patients who experienced each type of chest pain as\n",
    "thalach_typical, thalach_asymptom, thalach_nonangin, and thalach_atypical, respectively.\n",
    "\"\"\"\n",
    "\n",
    "thalach_typical = heart.thalach[heart.cp == \"typical angina\"]\n",
    "thalach_asymptom = heart.thalach[heart.cp == \"asymptomatic\"]\n",
    "thalach_nonangin = heart.thalach[heart.cp == \"non-anginal pain\"]\n",
    "thalach_atypical = heart.thalach[heart.cp == \"atypical angina\"]"
   ]
  },
  {
   "cell_type": "code",
   "execution_count": 40,
   "id": "e682e8aa",
   "metadata": {},
   "outputs": [
    {
     "name": "stdout",
     "output_type": "stream",
     "text": [
      "1.9065505247705008e-10\n",
      "           Multiple Comparison of Means - Tukey HSD, FWER=0.05           \n",
      "=========================================================================\n",
      "     group1           group2      meandiff p-adj   lower    upper  reject\n",
      "-------------------------------------------------------------------------\n",
      "    asymptomatic  atypical angina  21.7394    0.0  12.7442 30.7347   True\n",
      "    asymptomatic non-anginal pain  14.7264    0.0   7.2583 22.1945   True\n",
      "    asymptomatic   typical angina   15.276 0.0081   2.9707 27.5812   True\n",
      " atypical angina non-anginal pain   -7.013 0.2481 -16.7587  2.7327  False\n",
      " atypical angina   typical angina  -6.4635 0.6213 -20.2702  7.3432  False\n",
      "non-anginal pain   typical angina   0.5495 0.9995 -12.3145 13.4136  False\n",
      "-------------------------------------------------------------------------\n"
     ]
    }
   ],
   "source": [
    "\"\"\"\n",
    "Performing ANOVA and Tukey hypothesis tests to address the following null and alternative hypotheses:\n",
    "\n",
    "Null: People with typical angina, non-anginal pain, atypical angina, and asymptomatic people all have the same average thalach.\n",
    "Alternative: People with typical angina, non-anginal pain, atypical angina, and asymptomatic people do not all have the same\n",
    "average thalach.\n",
    "\n",
    "Here we use the ANOVA + Tukey test since we want to compare a non-binary categorical variable (chest pain type) with a quantita-\n",
    "tive variable (thalach)\n",
    "\"\"\"\n",
    "# ANOVA:\n",
    "from scipy.stats import f_oneway\n",
    "fstat, pval = f_oneway(thalach_typical,thalach_asymptom,thalach_nonangin,thalach_atypical)\n",
    "\n",
    "print(pval) # p-value = 0.000000000191\n",
    "\n",
    "# The p-value suggests that there is at least one categorical variable with a significant different mean thalach from \n",
    "# one of the others\n",
    "\n",
    "# Tukey:\n",
    "\n",
    "from statsmodels.stats.multicomp import pairwise_tukeyhsd\n",
    "tukey_results = pairwise_tukeyhsd(heart.thalach, heart.cp, 0.05)\n",
    "print(tukey_results)\n",
    "# The table shows that the null hypothesis should be rejected for the asymptomatic chest pain variable.\n"
   ]
  },
  {
   "cell_type": "code",
   "execution_count": 41,
   "id": "fae4a070",
   "metadata": {},
   "outputs": [
    {
     "name": "stdout",
     "output_type": "stream",
     "text": [
      "heart_disease     absence  presence\n",
      "cp                                 \n",
      "asymptomatic           39       105\n",
      "atypical angina        41         9\n",
      "non-anginal pain       68        18\n",
      "typical angina         16         7\n"
     ]
    }
   ],
   "source": [
    "\"\"\"\n",
    "Finally, let’s investigate the relationship between the kind of chest pain a person experiences and whether or not they have\n",
    "heart disease. We create a contingency table of cp and heart_disease.\n",
    "\"\"\"\n",
    "\n",
    "Xtab = pd.crosstab(heart.cp, heart.heart_disease)\n",
    "print(Xtab)\n",
    "# The table suggests that people with a heart disease more often have an asymptomatic chest pain."
   ]
  },
  {
   "cell_type": "code",
   "execution_count": 43,
   "id": "461e86ef",
   "metadata": {},
   "outputs": [
    {
     "name": "stdout",
     "output_type": "stream",
     "text": [
      "1.2517106007837527e-17\n"
     ]
    }
   ],
   "source": [
    "# We are checking the association with an chi2-test in order to compare two categorical variables (chest pain type/ heart disease)\n",
    "\n",
    "from scipy.stats import chi2_contingency\n",
    "\n",
    "chi2, pval, dof, expected = chi2_contingency(Xtab)\n",
    "print(pval) # p-value = 0.0000000000000000125 so there is a significant association between the chest pain type and the absence/\n",
    "# presence of heart disease"
   ]
  }
 ],
 "metadata": {
  "kernelspec": {
   "display_name": "Python 3 (ipykernel)",
   "language": "python",
   "name": "python3"
  },
  "language_info": {
   "codemirror_mode": {
    "name": "ipython",
    "version": 3
   },
   "file_extension": ".py",
   "mimetype": "text/x-python",
   "name": "python",
   "nbconvert_exporter": "python",
   "pygments_lexer": "ipython3",
   "version": "3.9.13"
  }
 },
 "nbformat": 4,
 "nbformat_minor": 5
}
