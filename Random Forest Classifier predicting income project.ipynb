{
 "cells": [
  {
   "cell_type": "markdown",
   "id": "ac58ab40",
   "metadata": {},
   "source": [
    "In this project, a dataset containing census information from UCI’s Machine Learning Repository will be used to create a model to predict whether or not a person makes more than $50,000. The prediction model used here is a Random Forest Classifier. \n",
    "In this project all 14 features will be used in the model. The model might get more effective when done feature reduction prior to building the model (f.ex. by applying PCA to the data).\n",
    "\n",
    "\n",
    "Dataset: https://archive.ics.uci.edu/dataset/2/adult\n",
    "\n",
    "Additional Information\n",
    "\n",
    "Extraction was done by Barry Becker from the 1994 Census database.  A set of reasonably clean records was extracted using the following conditions: ((AAGE>16) && (AGI>100) && (AFNLWGT>1)&& (HRSWK>0))\n",
    "\n",
    "Prediction task is to determine whether a person makes over 50K a year.\n",
    "\n",
    "Additional Information\n",
    "\n",
    "Listing of attributes:\n",
    "\n",
    ">50K, <=50K.\n",
    "\n",
    "age: continuous.\n",
    "workclass: Private, Self-emp-not-inc, Self-emp-inc, Federal-gov, Local-gov, State-gov, Without-pay, Never-worked.\n",
    "fnlwgt: continuous.\n",
    "education: Bachelors, Some-college, 11th, HS-grad, Prof-school, Assoc-acdm, Assoc-voc, 9th, 7th-8th, 12th, Masters, 1st-4th, 10th, Doctorate, 5th-6th, Preschool.\n",
    "education-num: continuous.\n",
    "marital-status: Married-civ-spouse, Divorced, Never-married, Separated, Widowed, Married-spouse-absent, Married-AF-spouse.\n",
    "occupation: Tech-support, Craft-repair, Other-service, Sales, Exec-managerial, Prof-specialty, Handlers-cleaners, Machine-op-inspct, Adm-clerical, Farming-fishing, Transport-moving, Priv-house-serv, Protective-serv, Armed-Forces.\n",
    "relationship: Wife, Own-child, Husband, Not-in-family, Other-relative, Unmarried.\n",
    "race: White, Asian-Pac-Islander, Amer-Indian-Eskimo, Other, Black.\n",
    "sex: Female, Male.\n",
    "capital-gain: continuous.\n",
    "capital-loss: continuous.\n",
    "hours-per-week: continuous.\n",
    "native-country: United-States, Cambodia, England, Puerto-Rico, Canada, Germany, Outlying-US(Guam-USVI-etc), India, Japan, Greece, South, China, Cuba, Iran, Honduras, Philippines, Italy, Poland, Jamaica, Vietnam, Mexico, Portugal, Ireland, France, Dominican-Republic, Laos, Ecuador, Taiwan, Haiti, Columbia, Hungary, Guatemala, Nicaragua, Scotland, Thailand, Yugoslavia, El-Salvador, Trinadad&Tobago, Peru, Hong, Holand-Netherlands.\n"
   ]
  },
  {
   "cell_type": "code",
   "execution_count": 1,
   "id": "239eb06d",
   "metadata": {},
   "outputs": [],
   "source": [
    "import pandas as pd\n",
    "import numpy as np\n",
    "import matplotlib.pyplot as plt\n",
    "import seaborn as sns\n",
    "\n",
    "from sklearn.model_selection import train_test_split\n",
    "from sklearn import tree \n",
    "from sklearn.tree import DecisionTreeClassifier\n",
    "from sklearn.ensemble import RandomForestClassifier, BaggingClassifier, RandomForestRegressor\n",
    "from sklearn.linear_model import LogisticRegression\n",
    "from sklearn.metrics import accuracy_score, precision_score, recall_score, f1_score"
   ]
  },
  {
   "cell_type": "code",
   "execution_count": 2,
   "id": "d06b1655",
   "metadata": {},
   "outputs": [
    {
     "name": "stdout",
     "output_type": "stream",
     "text": [
      "   age          workclass  fnlwgt   education  education-num  \\\n",
      "0   39          State-gov   77516   Bachelors             13   \n",
      "1   50   Self-emp-not-inc   83311   Bachelors             13   \n",
      "2   38            Private  215646     HS-grad              9   \n",
      "3   53            Private  234721        11th              7   \n",
      "4   28            Private  338409   Bachelors             13   \n",
      "5   37            Private  284582     Masters             14   \n",
      "6   49            Private  160187         9th              5   \n",
      "\n",
      "           marital-status          occupation    relationship    race  \\\n",
      "0           Never-married        Adm-clerical   Not-in-family   White   \n",
      "1      Married-civ-spouse     Exec-managerial         Husband   White   \n",
      "2                Divorced   Handlers-cleaners   Not-in-family   White   \n",
      "3      Married-civ-spouse   Handlers-cleaners         Husband   Black   \n",
      "4      Married-civ-spouse      Prof-specialty            Wife   Black   \n",
      "5      Married-civ-spouse     Exec-managerial            Wife   White   \n",
      "6   Married-spouse-absent       Other-service   Not-in-family   Black   \n",
      "\n",
      "       sex  capital-gain  capital-loss  hours-per-week  native-country  income  \n",
      "0     Male          2174             0              40   United-States   <=50K  \n",
      "1     Male             0             0              13   United-States   <=50K  \n",
      "2     Male             0             0              40   United-States   <=50K  \n",
      "3     Male             0             0              40   United-States   <=50K  \n",
      "4   Female             0             0              40            Cuba   <=50K  \n",
      "5   Female             0             0              40   United-States   <=50K  \n",
      "6   Female             0             0              16         Jamaica   <=50K  \n",
      "Index(['age', 'workclass', 'fnlwgt', 'education', 'education-num',\n",
      "       'marital-status', 'occupation', 'relationship', 'race', 'sex',\n",
      "       'capital-gain', 'capital-loss', 'hours-per-week', 'native-country',\n",
      "       'income'],\n",
      "      dtype='object')\n"
     ]
    }
   ],
   "source": [
    "col_names = ['age', 'workclass', 'fnlwgt','education', 'education-num', \n",
    "'marital-status', 'occupation', 'relationship', 'race', 'sex',\n",
    "'capital-gain','capital-loss', 'hours-per-week','native-country', 'income']\n",
    "df = pd.read_csv(r\"C:\\Users\\Anwender\\Desktop\\archive\\adult.data\", names = col_names)\n",
    "print(df.head(7))\n",
    "print(df.columns)"
   ]
  },
  {
   "cell_type": "code",
   "execution_count": 3,
   "id": "a1fcb373",
   "metadata": {},
   "outputs": [
    {
     "name": "stdout",
     "output_type": "stream",
     "text": [
      "<class 'pandas.core.frame.DataFrame'>\n",
      "RangeIndex: 32561 entries, 0 to 32560\n",
      "Data columns (total 15 columns):\n",
      " #   Column          Non-Null Count  Dtype \n",
      "---  ------          --------------  ----- \n",
      " 0   age             32561 non-null  int64 \n",
      " 1   workclass       32561 non-null  object\n",
      " 2   fnlwgt          32561 non-null  int64 \n",
      " 3   education       32561 non-null  object\n",
      " 4   education-num   32561 non-null  int64 \n",
      " 5   marital-status  32561 non-null  object\n",
      " 6   occupation      32561 non-null  object\n",
      " 7   relationship    32561 non-null  object\n",
      " 8   race            32561 non-null  object\n",
      " 9   sex             32561 non-null  object\n",
      " 10  capital-gain    32561 non-null  int64 \n",
      " 11  capital-loss    32561 non-null  int64 \n",
      " 12  hours-per-week  32561 non-null  int64 \n",
      " 13  native-country  32561 non-null  object\n",
      " 14  income          32561 non-null  object\n",
      "dtypes: int64(6), object(9)\n",
      "memory usage: 3.7+ MB\n",
      "None\n"
     ]
    }
   ],
   "source": [
    "print(df.info())"
   ]
  },
  {
   "cell_type": "code",
   "execution_count": 4,
   "id": "9b9b45cc",
   "metadata": {},
   "outputs": [
    {
     "name": "stdout",
     "output_type": "stream",
     "text": [
      "object\n",
      "15\n",
      "age                int64\n",
      "workclass         object\n",
      "fnlwgt             int64\n",
      "education         object\n",
      "education-num      int64\n",
      "marital-status    object\n",
      "occupation        object\n",
      "relationship      object\n",
      "race              object\n",
      "sex               object\n",
      "capital-gain       int64\n",
      "capital-loss       int64\n",
      "hours-per-week     int64\n",
      "native-country    object\n",
      "income            object\n",
      "dtype: object\n",
      "object\n",
      "workclass\n",
      "0                State-gov\n",
      "1         Self-emp-not-inc\n",
      "2                  Private\n",
      "3                  Private\n",
      "4                  Private\n",
      "               ...        \n",
      "32556              Private\n",
      "32557              Private\n",
      "32558              Private\n",
      "32559              Private\n",
      "32560         Self-emp-inc\n",
      "Name: workclass, Length: 32561, dtype: object\n"
     ]
    }
   ],
   "source": [
    "print(df.education.dtype)\n",
    "print(len(df.columns))\n",
    "print(df.dtypes)\n",
    "print(df.dtypes[1])\n",
    "print(df.columns[1])\n",
    "print(df[df.columns[1]])\n"
   ]
  },
  {
   "cell_type": "markdown",
   "id": "d00e6727",
   "metadata": {},
   "source": [
    "Stripping the object - columns from possible whitespaces. "
   ]
  },
  {
   "cell_type": "code",
   "execution_count": 5,
   "id": "fd7ef9be",
   "metadata": {},
   "outputs": [
    {
     "name": "stdout",
     "output_type": "stream",
     "text": [
      "0    United-States\n",
      "1    United-States\n",
      "2    United-States\n",
      "3    United-States\n",
      "4             Cuba\n",
      "Name: native-country, dtype: object\n"
     ]
    }
   ],
   "source": [
    "for i in range(len(df.columns)):\n",
    "    if df.dtypes[i] == \"object\":\n",
    "        df[df.columns[i]] = df[df.columns[i]].str.strip()\n",
    "\n",
    "print(df[\"native-country\"].head())"
   ]
  },
  {
   "cell_type": "markdown",
   "id": "083ab565",
   "metadata": {},
   "source": [
    "Examine the distribution of the income variable ( percentage of people with an income more than/less than or equal to 50k)"
   ]
  },
  {
   "cell_type": "code",
   "execution_count": 6,
   "id": "1684077d",
   "metadata": {},
   "outputs": [
    {
     "name": "stdout",
     "output_type": "stream",
     "text": [
      "<=50K    0.75919\n",
      ">50K     0.24081\n",
      "Name: income, dtype: float64\n"
     ]
    }
   ],
   "source": [
    "print(df.income.value_counts(normalize = True))"
   ]
  },
  {
   "cell_type": "markdown",
   "id": "65d7687b",
   "metadata": {},
   "source": [
    "More than 3/4 of the income is less than or equal to 50k"
   ]
  },
  {
   "cell_type": "markdown",
   "id": "3911fe23",
   "metadata": {},
   "source": [
    "Setting up feature and label variables for the Random Forest model"
   ]
  },
  {
   "cell_type": "code",
   "execution_count": 7,
   "id": "9d84f3ec",
   "metadata": {},
   "outputs": [],
   "source": [
    "X = pd.get_dummies(df.iloc[: , 0:14], drop_first = True)\n",
    "# print(X.head())\n",
    "\n",
    "# print(df.income.head(10))\n",
    "y = df[\"income\"].apply(lambda x: 0 if x == \"<=50K\" else 1)\n",
    "# print(y.head(10))"
   ]
  },
  {
   "cell_type": "markdown",
   "id": "4e5ebd40",
   "metadata": {},
   "source": [
    "Train test split"
   ]
  },
  {
   "cell_type": "code",
   "execution_count": 8,
   "id": "c79eeb68",
   "metadata": {},
   "outputs": [],
   "source": [
    "X_train, X_test, y_train, y_test = train_test_split(X, y, test_size = 0.2, random_state = 1)"
   ]
  },
  {
   "cell_type": "markdown",
   "id": "ca4c4ccd",
   "metadata": {},
   "source": [
    "Creating model and computing accuracy score"
   ]
  },
  {
   "cell_type": "code",
   "execution_count": 9,
   "id": "53afb3e5",
   "metadata": {},
   "outputs": [
    {
     "name": "stdout",
     "output_type": "stream",
     "text": [
      "0.8601259020420697\n"
     ]
    }
   ],
   "source": [
    "rfc = RandomForestClassifier()\n",
    "\n",
    "rfc.fit(X_train,y_train)\n",
    "\n",
    "print(rfc.score(X_test,y_test))"
   ]
  },
  {
   "cell_type": "markdown",
   "id": "0e449aaf",
   "metadata": {},
   "source": [
    "Tuning the model by examining the accuracy score with different max_depths"
   ]
  },
  {
   "cell_type": "code",
   "execution_count": 10,
   "id": "a1307708",
   "metadata": {},
   "outputs": [],
   "source": [
    "accuracy_train = []\n",
    "accuracy_test = []\n",
    "\n",
    "for i in range(25):\n",
    "    rfci = RandomForestClassifier(max_depth = i + 1)\n",
    "    rfci.fit(X_train, y_train)\n",
    "    train_score = rfci.score(X_train, y_train)\n",
    "    test_score = rfci.score(X_test, y_test)\n",
    "    accuracy_train.append(train_score)\n",
    "    accuracy_test.append(test_score)\n"
   ]
  },
  {
   "cell_type": "code",
   "execution_count": 11,
   "id": "972cc697",
   "metadata": {},
   "outputs": [
    {
     "name": "stdout",
     "output_type": "stream",
     "text": [
      "[0.7560657248157249, 0.7663160319410319, 0.7923449017199017, 0.8233261670761671, 0.8412929975429976, 0.8487023955773956, 0.8506987100737101, 0.8581081081081081, 0.8611025798525799, 0.8632908476658476, 0.8683968058968059, 0.8713144963144963, 0.8758062039312039, 0.8794149262899262, 0.8856726044226044, 0.8922757985257985, 0.9002994471744472, 0.905213452088452, 0.9110488329238329, 0.9204545454545454, 0.9288237100737101, 0.9343135749385749, 0.9422220515970516, 0.949017199017199, 0.9542767199017199]\n",
      "[0.7716873944418855, 0.7799785045294028, 0.8043912175648703, 0.8291110087517273, 0.8441578381698143, 0.8486104713649624, 0.8493781667434362, 0.8558268079226163, 0.8593582066635959, 0.8588975894365116, 0.8616612927990174, 0.8635037617073545, 0.8627360663288807, 0.8627360663288807, 0.8639643789344388, 0.8662674650698603, 0.8670351604483341, 0.8681099339781975, 0.8668816213726394, 0.8701059419622293, 0.868417012129587, 0.8665745432212498, 0.8667280822969445, 0.8671886995240289, 0.8668816213726394]\n"
     ]
    }
   ],
   "source": [
    "print(accuracy_train)\n",
    "print(accuracy_test)"
   ]
  },
  {
   "cell_type": "code",
   "execution_count": 38,
   "id": "e0d17e9c",
   "metadata": {},
   "outputs": [
    {
     "name": "stdout",
     "output_type": "stream",
     "text": [
      "largest accuracy score: 0.8701059419622293, max depth: 20\n"
     ]
    }
   ],
   "source": [
    "print(f\"largest accuracy score: {max(accuracy_test)}, max depth: {accuracy_test.index(max(accuracy_test))+1}\")\n",
    "\n",
    "best_depth = accuracy_test.index(max(accuracy_test))+1\n",
    "best_score = max(accuracy_test)"
   ]
  },
  {
   "cell_type": "code",
   "execution_count": 39,
   "id": "03356709",
   "metadata": {},
   "outputs": [
    {
     "data": {
      "image/png": "[encoded data removed]",
      "text/plain": [
       "<Figure size 640x480 with 1 Axes>"
      ]
     },
     "metadata": {},
     "output_type": "display_data"
    }
   ],
   "source": [
    "depth = [i for i in range(1,26)]\n",
    "\n",
    "plt.scatter(depth, accuracy_train, label = \"train\")\n",
    "plt.scatter(depth, accuracy_test, label = \"test\")\n",
    "plt.axhline(y= best_score, color = \"r\", label = \"highest test score\")\n",
    "plt.xlabel(\"max_depth\")\n",
    "plt.ylabel(\"accuracy_score\")\n",
    "plt.legend()\n",
    "plt.show()"
   ]
  },
  {
   "cell_type": "markdown",
   "id": "cbf740a8",
   "metadata": {},
   "source": [
    "Refitting model with max_depth with highest accuracy score and extracting the 5 highest feature inportances"
   ]
  },
  {
   "cell_type": "code",
   "execution_count": 40,
   "id": "d88f4630",
   "metadata": {},
   "outputs": [
    {
     "name": "stdout",
     "output_type": "stream",
     "text": [
      "[1.03233946e-01 6.80570699e-02 7.47600885e-02 1.29604073e-01\n",
      " 3.75751937e-02 6.53729390e-02 5.08217687e-03 4.75959217e-03\n",
      " 4.04032595e-06 8.76156980e-03 7.29217610e-03 8.14948483e-03\n",
      " 3.84075205e-03 1.24732602e-05 1.44763231e-03 5.25573838e-04\n",
      " 1.76460839e-04 5.64260984e-04 1.88563745e-03 1.25853746e-03\n",
      " 1.80827853e-03 2.09185241e-03 1.66801738e-02 3.92952685e-03\n",
      " 5.87941087e-03 9.03809089e-03 6.55342716e-05 4.86681456e-03\n",
      " 4.49498331e-03 5.28377015e-04 1.26462658e-01 1.42388966e-03\n",
      " 4.76140075e-02 2.54577507e-03 2.64382033e-03 4.61329637e-03\n",
      " 1.79314881e-05 4.25772587e-03 2.15051251e-02 3.91870697e-03\n",
      " 2.70029390e-03 2.39864841e-03 9.79673650e-03 1.21040172e-04\n",
      " 1.83246502e-02 2.29658114e-03 5.18659027e-03 3.70721163e-03\n",
      " 3.00142779e-03 2.47187297e-02 2.50002766e-03 1.40312768e-02\n",
      " 1.23381743e-02 1.06316121e-02 2.99538192e-03 4.35319110e-03\n",
      " 9.04363532e-04 6.02877076e-03 2.30746022e-02 2.69596954e-04\n",
      " 9.87366859e-04 6.27076267e-04 1.89390551e-04 6.75722549e-04\n",
      " 2.04486081e-04 1.21028693e-04 1.99113790e-04 9.57920290e-04\n",
      " 3.72680321e-04 9.64256545e-04 3.73350984e-04 1.09824119e-04\n",
      " 1.95544654e-04 0.00000000e+00 7.75595244e-06 2.08892280e-04\n",
      " 1.75330653e-04 9.01205773e-04 4.60183796e-04 1.63905433e-04\n",
      " 5.80157467e-04 3.29615628e-04 5.45656675e-04 8.44299764e-05\n",
      " 1.72397517e-03 1.27367269e-04 3.68412427e-05 5.29758081e-05\n",
      " 9.67100974e-04 3.97970750e-04 1.85379981e-04 4.75344438e-04\n",
      " 6.28282976e-05 6.42175404e-04 3.41947991e-04 1.08147547e-04\n",
      " 1.16475856e-04 6.18978522e-03 3.53993001e-04 1.81891247e-04\n",
      " 1.46042978e-02 2.78680430e-02]\n"
     ]
    }
   ],
   "source": [
    "rfbest = RandomForestClassifier(max_depth = best_depth)\n",
    "\n",
    "rfbest.fit(X_train, y_train)\n",
    "\n",
    "feature_importances = rfbest.feature_importances_\n",
    "print(feature_importances)"
   ]
  },
  {
   "cell_type": "code",
   "execution_count": 15,
   "id": "f3c48dc6",
   "metadata": {},
   "outputs": [
    {
     "name": "stdout",
     "output_type": "stream",
     "text": [
      "                           Feature  Importance\n",
      "0                              age    0.117793\n",
      "1                           fnlwgt    0.087126\n",
      "2                    education-num    0.088077\n",
      "3                     capital-gain    0.124864\n",
      "4                     capital-loss    0.037631\n",
      "..                             ...         ...\n",
      "95         native-country_Thailand    0.000083\n",
      "96  native-country_Trinadad&Tobago    0.000132\n",
      "97    native-country_United-States    0.006727\n",
      "98          native-country_Vietnam    0.000375\n",
      "99       native-country_Yugoslavia    0.000243\n",
      "\n",
      "[100 rows x 2 columns]\n",
      "                              Feature  Importance\n",
      "3                        capital-gain    0.124864\n",
      "0                                 age    0.117793\n",
      "30  marital-status_Married-civ-spouse    0.108553\n",
      "2                       education-num    0.088077\n",
      "1                              fnlwgt    0.087126\n"
     ]
    }
   ],
   "source": [
    "# Saving the feature importances to a dataframe\n",
    "\n",
    "feature_importance_df = pd.DataFrame(zip(X_train.columns, feature_importances), columns = [\"Feature\", \"Importance\"])\n",
    "print(feature_importance_df)\n",
    "\n",
    "# Extracting 5 most important features\n",
    "\n",
    "top_5_df = feature_importance_df.sort_values(\"Importance\", ascending = False).iloc[0:5]\n",
    "print(top_5_df)\n"
   ]
  },
  {
   "cell_type": "markdown",
   "id": "10acbaae",
   "metadata": {},
   "source": [
    "Grouping some of the education feature values together to see if this changes the model.\n",
    "\n",
    "Groups: High school and less, College to Bachelor, Masters and more\n",
    "\n",
    "This can be done by grouping the education numbers by their corresponding education. \n",
    "Below we can see that High School corresponds with the education number 9, College with the education number 10 asf:"
   ]
  },
  {
   "cell_type": "code",
   "execution_count": 18,
   "id": "e380ef88",
   "metadata": {},
   "outputs": [
    {
     "name": "stdout",
     "output_type": "stream",
     "text": [
      "9     10501\n",
      "10     7291\n",
      "13     5355\n",
      "14     1723\n",
      "11     1382\n",
      "7      1175\n",
      "12     1067\n",
      "6       933\n",
      "4       646\n",
      "15      576\n",
      "5       514\n",
      "8       433\n",
      "16      413\n",
      "3       333\n",
      "2       168\n",
      "1        51\n",
      "Name: education-num, dtype: int64 HS-grad         10501\n",
      "Some-college     7291\n",
      "Bachelors        5355\n",
      "Masters          1723\n",
      "Assoc-voc        1382\n",
      "11th             1175\n",
      "Assoc-acdm       1067\n",
      "10th              933\n",
      "7th-8th           646\n",
      "Prof-school       576\n",
      "9th               514\n",
      "12th              433\n",
      "Doctorate         413\n",
      "5th-6th           333\n",
      "1st-4th           168\n",
      "Preschool          51\n",
      "Name: education, dtype: int64\n"
     ]
    }
   ],
   "source": [
    "print(df[\"education-num\"].value_counts(), df[\"education\"].value_counts())"
   ]
  },
  {
   "cell_type": "code",
   "execution_count": 20,
   "id": "352b4fa3",
   "metadata": {},
   "outputs": [
    {
     "name": "stdout",
     "output_type": "stream",
     "text": [
      "0        College to Bachelors\n",
      "1        College to Bachelors\n",
      "2         High School or less\n",
      "3         High School or less\n",
      "4        College to Bachelors\n",
      "                 ...         \n",
      "32556    College to Bachelors\n",
      "32557     High School or less\n",
      "32558     High School or less\n",
      "32559     High School or less\n",
      "32560     High School or less\n",
      "Name: education_grouped, Length: 32561, dtype: category\n",
      "Categories (3, object): ['High School or less' < 'College to Bachelors' < 'Masters and more'] 0         Bachelors\n",
      "1         Bachelors\n",
      "2           HS-grad\n",
      "3              11th\n",
      "4         Bachelors\n",
      "            ...    \n",
      "32556    Assoc-acdm\n",
      "32557       HS-grad\n",
      "32558       HS-grad\n",
      "32559       HS-grad\n",
      "32560       HS-grad\n",
      "Name: education, Length: 32561, dtype: object\n"
     ]
    }
   ],
   "source": [
    "# Adding the new column\n",
    "df[\"education_grouped\"] = pd.cut(df[\"education-num\"], [0,9,13,16], labels=[\"High School or less\", \"College to Bachelors\", \"Masters and more\"])\n",
    "print(df.education_grouped, df.education)"
   ]
  },
  {
   "cell_type": "code",
   "execution_count": 25,
   "id": "a612ec3e",
   "metadata": {},
   "outputs": [],
   "source": [
    "# Feature variables for the new model\n",
    "\n",
    "X = pd.get_dummies(df.drop([\"income\"], axis = 1), drop_first = True)\n",
    "#print(X)\n",
    "\n",
    "X_train, X_test, y_train, y_test = train_test_split(X,y, test_size = 0.2, random_state = 1)"
   ]
  },
  {
   "cell_type": "code",
   "execution_count": 27,
   "id": "684d9f55",
   "metadata": {},
   "outputs": [
    {
     "name": "stdout",
     "output_type": "stream",
     "text": [
      "[0.7560657248157249, 0.82754914004914, 0.843634828009828, 0.8440571253071253, 0.8521191646191646, 0.8563037469287469, 0.8586071867321867, 0.8608338452088452, 0.8644041769041769, 0.8694717444717445, 0.8743857493857494, 0.8802979115479116, 0.8872466216216216, 0.894617628992629, 0.9008369164619164, 0.9088221744471745, 0.9172681203931204, 0.926097972972973, 0.9333154176904177, 0.9398418304668305, 0.9465985872235873, 0.953585687960688, 0.9590755528255528, 0.965333230958231, 0.9707463144963145]\n",
      "[0.7716873944418855, 0.8309534776600644, 0.844925533548288, 0.8446184553968985, 0.8526024873330262, 0.8545984953170582, 0.8558268079226163, 0.8585905112851221, 0.857976354982343, 0.8613542146476278, 0.8590511285122063, 0.8518347919545525, 0.8542914171656687, 0.8510670965760786, 0.8502994011976048, 0.8461538461538461, 0.8389375095961922, 0.8358667280822969, 0.8321817902656226, 0.8321817902656226, 0.8343313373253493, 0.831874712114233, 0.8292645478274221, 0.8268079226163059, 0.8251189927836634]\n"
     ]
    }
   ],
   "source": [
    "# Initiating and creating mode\n",
    "\n",
    "# Starting with finding the best value for max_depth\n",
    "\n",
    "new_acc_train = []\n",
    "new_acc_test = []\n",
    "\n",
    "for i in range(1,26):\n",
    "    dt = DecisionTreeClassifier(max_depth = i)\n",
    "    dt.fit(X_train,y_train)\n",
    "    new_acc_train.append(dt.score(X_train,y_train))\n",
    "    new_acc_test.append(dt.score(X_test,y_test))\n",
    "\n",
    "print(new_acc_train)\n",
    "print(new_acc_test)\n"
   ]
  },
  {
   "cell_type": "code",
   "execution_count": 35,
   "id": "d71a8bbb",
   "metadata": {},
   "outputs": [
    {
     "name": "stdout",
     "output_type": "stream",
     "text": [
      "Highest test accuracy: 0.8613542146476278, best max depth: 10\n"
     ]
    }
   ],
   "source": [
    "# Getting highest test score ancd accosiated max_depth\n",
    "\n",
    "new_highest_acc = max(new_acc_test)\n",
    "new_best_depth = new_acc_test.index(new_highest_acc) + 1\n",
    "\n",
    "\n",
    "print(f\"Highest test accuracy: {max(new_acc_test)}, best max depth: {new_acc_test.index(max(new_acc_test))+1}\")"
   ]
  },
  {
   "cell_type": "code",
   "execution_count": 41,
   "id": "d27eac4d",
   "metadata": {},
   "outputs": [
    {
     "data": {
      "image/png": "[encoded data removed]",
      "text/plain": [
       "<Figure size 640x480 with 1 Axes>"
      ]
     },
     "metadata": {},
     "output_type": "display_data"
    }
   ],
   "source": [
    "# Plotting the training and test accuracies against the depths\n",
    "\n",
    "plt.scatter(depth, new_acc_train, label = \"train\")\n",
    "plt.scatter(depth, new_acc_test, label = \"test\")\n",
    "plt.axhline(y= new_highest_acc, color = \"r\", label = \"highest test score\")\n",
    "plt.xlabel(\"max_depth\")\n",
    "plt.ylabel(\"accuracy_score\")\n",
    "plt.legend()\n",
    "plt.show()"
   ]
  },
  {
   "cell_type": "code",
   "execution_count": 42,
   "id": "e6d213fb",
   "metadata": {},
   "outputs": [
    {
     "name": "stdout",
     "output_type": "stream",
     "text": [
      "                                    Feature  Importance\n",
      "0                                       age    0.065455\n",
      "1                                    fnlwgt    0.011215\n",
      "2                             education-num    0.109301\n",
      "3                              capital-gain    0.144843\n",
      "4                              capital-loss    0.034325\n",
      "..                                      ...         ...\n",
      "97             native-country_United-States    0.001921\n",
      "98                   native-country_Vietnam    0.000156\n",
      "99                native-country_Yugoslavia    0.000062\n",
      "100  education_grouped_College to Bachelors    0.017795\n",
      "101      education_grouped_Masters and more    0.044262\n",
      "\n",
      "[102 rows x 2 columns]\n",
      "                              Feature  Importance\n",
      "30  marital-status_Married-civ-spouse    0.192242\n",
      "3                        capital-gain    0.144843\n",
      "2                       education-num    0.109301\n",
      "32       marital-status_Never-married    0.070314\n",
      "0                                 age    0.065455\n"
     ]
    }
   ],
   "source": [
    "# Fitting the model with the new best max_depth\n",
    "\n",
    "rf_new_best = RandomForestClassifier(max_depth = new_best_depth)\n",
    "\n",
    "rf_new_best.fit(X_train,y_train)\n",
    "\n",
    "# Saving the feature importances to a dataframe\n",
    "\n",
    "feature_importance_df_new = pd.DataFrame(zip(X_train.columns, rf_new_best.feature_importances_), columns = [\"Feature\", \"Importance\"])\n",
    "print(feature_importance_df_new)\n",
    "\n",
    "# Extracting 5 most important features\n",
    "\n",
    "top_5_df = feature_importance_df_new.sort_values(\"Importance\", ascending = False).iloc[0:5]\n",
    "print(top_5_df)"
   ]
  },
  {
   "cell_type": "code",
   "execution_count": null,
   "id": "556dd32a",
   "metadata": {},
   "outputs": [],
   "source": []
  }
 ],
 "metadata": {
  "kernelspec": {
   "display_name": "Python 3 (ipykernel)",
   "language": "python",
   "name": "python3"
  },
  "language_info": {
   "codemirror_mode": {
    "name": "ipython",
    "version": 3
   },
   "file_extension": ".py",
   "mimetype": "text/x-python",
   "name": "python",
   "nbconvert_exporter": "python",
   "pygments_lexer": "ipython3",
   "version": "3.9.13"
  }
 },
 "nbformat": 4,
 "nbformat_minor": 5
}
