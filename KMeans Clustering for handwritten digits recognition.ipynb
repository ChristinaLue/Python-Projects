{
 "cells": [
  {
   "cell_type": "markdown",
   "id": "f322907e",
   "metadata": {},
   "source": [
    "Handwriting Recognition using K-Means\n",
    "The U.S. Postal Service has been using machine learning and scanning technologies since 1999. Because its postal offices have to look at roughly half a billion pieces of mail every day, they have done extensive research and developed very efficient algorithms for reading and understanding addresses. And not only the post office:\n",
    "\n",
    "ATMs can recognize handwritten bank checks\n",
    "Evernote can recognize handwritten task lists\n",
    "Expensify can recognize handwritten receipts\n",
    "But how do they do it?\n",
    "\n",
    "In this project, you will be using K-means clustering (the algorithm behind this magic) and scikit-learn to cluster images of handwritten digits."
   ]
  },
  {
   "cell_type": "code",
   "execution_count": 1,
   "id": "91f8c3d8",
   "metadata": {},
   "outputs": [],
   "source": [
    "import pandas as pd\n",
    "import numpy as np\n",
    "from matplotlib import pyplot as plt\n",
    "from sklearn import datasets"
   ]
  },
  {
   "cell_type": "code",
   "execution_count": 2,
   "id": "a1ab70d1",
   "metadata": {},
   "outputs": [
    {
     "name": "stdout",
     "output_type": "stream",
     "text": [
      ".. _digits_dataset:\n",
      "\n",
      "Optical recognition of handwritten digits dataset\n",
      "--------------------------------------------------\n",
      "\n",
      "**Data Set Characteristics:**\n",
      "\n",
      "    :Number of Instances: 1797\n",
      "    :Number of Attributes: 64\n",
      "    :Attribute Information: 8x8 image of integer pixels in the range 0..16.\n",
      "    :Missing Attribute Values: None\n",
      "    :Creator: E. Alpaydin (alpaydin '@' boun.edu.tr)\n",
      "    :Date: July; 1998\n",
      "\n",
      "This is a copy of the test set of the UCI ML hand-written digits datasets\n",
      "https://archive.ics.uci.edu/ml/datasets/Optical+Recognition+of+Handwritten+Digits\n",
      "\n",
      "The data set contains images of hand-written digits: 10 classes where\n",
      "each class refers to a digit.\n",
      "\n",
      "Preprocessing programs made available by NIST were used to extract\n",
      "normalized bitmaps of handwritten digits from a preprinted form. From a\n",
      "total of 43 people, 30 contributed to the training set and different 13\n",
      "to the test set. 32x32 bitmaps are divided into nonoverlapping blocks of\n",
      "4x4 and the number of on pixels are counted in each block. This generates\n",
      "an input matrix of 8x8 where each element is an integer in the range\n",
      "0..16. This reduces dimensionality and gives invariance to small\n",
      "distortions.\n",
      "\n",
      "For info on NIST preprocessing routines, see M. D. Garris, J. L. Blue, G.\n",
      "T. Candela, D. L. Dimmick, J. Geist, P. J. Grother, S. A. Janet, and C.\n",
      "L. Wilson, NIST Form-Based Handprint Recognition System, NISTIR 5469,\n",
      "1994.\n",
      "\n",
      ".. topic:: References\n",
      "\n",
      "  - C. Kaynak (1995) Methods of Combining Multiple Classifiers and Their\n",
      "    Applications to Handwritten Digit Recognition, MSc Thesis, Institute of\n",
      "    Graduate Studies in Science and Engineering, Bogazici University.\n",
      "  - E. Alpaydin, C. Kaynak (1998) Cascading Classifiers, Kybernetika.\n",
      "  - Ken Tang and Ponnuthurai N. Suganthan and Xi Yao and A. Kai Qin.\n",
      "    Linear dimensionalityreduction using relevance weighted LDA. School of\n",
      "    Electrical and Electronic Engineering Nanyang Technological University.\n",
      "    2005.\n",
      "  - Claudio Gentile. A New Approximate Maximal Margin Classification\n",
      "    Algorithm. NIPS. 2000.\n",
      "\n"
     ]
    }
   ],
   "source": [
    "# Loading the dataset digits from the sklearn library. The dataset gets imported as a dictionary\n",
    "digits = datasets.load_digits()\n",
    "\n",
    "# Examining the background and infos of the dataset\n",
    "print(digits.DESCR)"
   ]
  },
  {
   "cell_type": "code",
   "execution_count": 3,
   "id": "ec651978",
   "metadata": {},
   "outputs": [
    {
     "name": "stdout",
     "output_type": "stream",
     "text": [
      "[[ 0.  0.  5. ...  0.  0.  0.]\n",
      " [ 0.  0.  0. ... 10.  0.  0.]\n",
      " [ 0.  0.  0. ... 16.  9.  0.]\n",
      " ...\n",
      " [ 0.  0.  1. ...  6.  0.  0.]\n",
      " [ 0.  0.  2. ... 12.  0.  0.]\n",
      " [ 0.  0. 10. ... 12.  1.  0.]]\n",
      "[ 0.  0.  0.  2. 13.  0.  0.  0.  0.  0.  0.  8. 15.  0.  0.  0.  0.  0.\n",
      "  5. 16.  5.  2.  0.  0.  0.  0. 15. 12.  1. 16.  4.  0.  0.  4. 16.  2.\n",
      "  9. 16.  8.  0.  0.  0. 10. 14. 16. 16.  4.  0.  0.  0.  0.  0. 13.  8.\n",
      "  0.  0.  0.  0.  0.  0. 13.  6.  0.  0.]\n"
     ]
    }
   ],
   "source": [
    "# Examining the datapoints of the dataset\n",
    "print(digits.data)\n",
    "print(digits.data[100])"
   ]
  },
  {
   "cell_type": "code",
   "execution_count": 4,
   "id": "d0277060",
   "metadata": {},
   "outputs": [
    {
     "name": "stdout",
     "output_type": "stream",
     "text": [
      "[0 1 2 ... 8 9 8]\n",
      "9\n",
      "0\n"
     ]
    }
   ],
   "source": [
    "# Examining the target variables (space of desired outputs from our model): \n",
    "print(digits.target)\n",
    "print(max(digits.target)) # the biggest target variable is a 9 (obviously)\n",
    "print(min(digits.target)) # the smallest target variable is a 0 (also pretty obvious)"
   ]
  },
  {
   "cell_type": "markdown",
   "id": "95c38a76",
   "metadata": {},
   "source": [
    "To gain further understanding of how exactly the digits are represented as pixels let's take a look at some of the visual representations of how the datapoints (the different pixels) translate to an image"
   ]
  },
  {
   "cell_type": "code",
   "execution_count": 5,
   "id": "57aa900b",
   "metadata": {},
   "outputs": [
    {
     "data": {
      "text/plain": [
       "<Figure size 640x480 with 0 Axes>"
      ]
     },
     "metadata": {},
     "output_type": "display_data"
    },
    {
     "data": {
      "image/png": "[encoded data removed]",
      "text/plain": [
       "<Figure size 480x480 with 1 Axes>"
      ]
     },
     "metadata": {},
     "output_type": "display_data"
    }
   ],
   "source": [
    "# Looking at the visual representation of the pixeled image in the dataset on index 100\n",
    "plt.gray()\n",
    "plt.matshow(digits.images[100])\n",
    "plt.show()"
   ]
  },
  {
   "cell_type": "code",
   "execution_count": 6,
   "id": "e054ba81",
   "metadata": {},
   "outputs": [
    {
     "name": "stdout",
     "output_type": "stream",
     "text": [
      "4\n",
      "[[ 0.  0.  0.  2. 13.  0.  0.  0.]\n",
      " [ 0.  0.  0.  8. 15.  0.  0.  0.]\n",
      " [ 0.  0.  5. 16.  5.  2.  0.  0.]\n",
      " [ 0.  0. 15. 12.  1. 16.  4.  0.]\n",
      " [ 0.  4. 16.  2.  9. 16.  8.  0.]\n",
      " [ 0.  0. 10. 14. 16. 16.  4.  0.]\n",
      " [ 0.  0.  0.  0. 13.  8.  0.  0.]\n",
      " [ 0.  0.  0.  0. 13.  6.  0.  0.]]\n"
     ]
    }
   ],
   "source": [
    "# looks like maybe the nr 4? We can check this by printing the target variable at index 100\n",
    "print(digits.target[100])\n",
    "print(digits.images[100])"
   ]
  },
  {
   "cell_type": "code",
   "execution_count": 7,
   "id": "bc43ef1b",
   "metadata": {},
   "outputs": [
    {
     "data": {
      "text/plain": [
       "<Figure size 640x480 with 0 Axes>"
      ]
     },
     "metadata": {},
     "output_type": "display_data"
    },
    {
     "data": {
      "image/png": "[encoded data removed]",
      "text/plain": [
       "<Figure size 480x480 with 1 Axes>"
      ]
     },
     "metadata": {},
     "output_type": "display_data"
    }
   ],
   "source": [
    "# Looking at the visual representation of the pixeled image in the dataset on index 40\n",
    "plt.gray()\n",
    "plt.matshow(digits.images[40])\n",
    "plt.show()"
   ]
  },
  {
   "cell_type": "code",
   "execution_count": 8,
   "id": "0e190dcd",
   "metadata": {},
   "outputs": [
    {
     "name": "stdout",
     "output_type": "stream",
     "text": [
      "8\n"
     ]
    }
   ],
   "source": [
    "# Could be a 3..or 6, or 8?\n",
    "print(digits.target[40])"
   ]
  },
  {
   "cell_type": "markdown",
   "id": "2fc80485",
   "metadata": {},
   "source": [
    "We now gained enough understanding of the data to make a classification model. Here we choose KMeans Clustering to cluster the specific images into 10 different clusters (to cluster numbers between 0 and 9)"
   ]
  },
  {
   "cell_type": "code",
   "execution_count": 9,
   "id": "e0c25e53",
   "metadata": {},
   "outputs": [],
   "source": [
    "#Importing and implementing the k-means method with 10 clusters\n",
    "from sklearn.cluster import KMeans\n",
    "\n",
    "k_means = KMeans(n_clusters = 10, random_state = 100)"
   ]
  },
  {
   "cell_type": "code",
   "execution_count": 10,
   "id": "107e3f91",
   "metadata": {},
   "outputs": [],
   "source": [
    "# Setting up the variables \n",
    "\n",
    "X = digits.data"
   ]
  },
  {
   "cell_type": "code",
   "execution_count": 11,
   "id": "15c625d3",
   "metadata": {},
   "outputs": [],
   "source": [
    "# Creating the model using the data variables\n",
    "model = k_means.fit(X)"
   ]
  },
  {
   "cell_type": "code",
   "execution_count": 12,
   "id": "acc93ba5",
   "metadata": {},
   "outputs": [
    {
     "data": {
      "image/png": "[encoded data removed]",
      "text/plain": [
       "<Figure size 800x300 with 10 Axes>"
      ]
     },
     "metadata": {},
     "output_type": "display_data"
    }
   ],
   "source": [
    "# Visualization of the centroids\n",
    "fig = plt.figure(figsize = (8,3))\n",
    "fig.suptitle(\"Cluster Cetroids\", fontsize = 14, fontweight = \"bold\")\n",
    "\n",
    "for i in range(10):\n",
    "    # the subplot for each centroid in the global plot with a lattice of 2x5 for the positions from 1 to 10 (i+1)\n",
    "    ax = fig.add_subplot(2, 5, i + 1)\n",
    "    \n",
    "    # display subplots reshaping the cluster point with dim = 17 to an 8x8 array\n",
    "    ax.imshow(model.cluster_centers_[i].reshape((8,8)), cmap = plt.cm.binary)\n",
    "\n",
    "plt.show()"
   ]
  },
  {
   "cell_type": "markdown",
   "id": "15c43636",
   "metadata": {},
   "source": [
    "The model associated the number 3 to the index 0, the number 1 to the index 1, the number 6 to the index 2 asf, so if the model outputs 0 from a given target variable the actual number should be a 3."
   ]
  },
  {
   "cell_type": "code",
   "execution_count": 13,
   "id": "2c9315df",
   "metadata": {},
   "outputs": [
    {
     "name": "stdout",
     "output_type": "stream",
     "text": [
      "actual_digits       0   1    2    3    4    5    6    7    8    9\n",
      "predicted_digits                                                 \n",
      "0                 177   0    1    0    0    0    1    0    0    0\n",
      "1                   0  55    2    0    5    0    1    2    6   20\n",
      "2                   0  24  148    1    0    0    0    0    3    0\n",
      "3                   0   1   13  157    0    1    0    0    3    6\n",
      "4                   1   0    0    0  164    2    0    0    0    0\n",
      "5                   0   1    0    2    0  136    0    1    6    7\n",
      "6                   0   2    0    0    0    1  177    0    2    0\n",
      "7                   0   0    3    7    8    0    0  174    3    7\n",
      "8                   0  99    8    7    4    0    2    2  100    1\n",
      "9                   0   0    2    9    0   42    0    0   51  139\n"
     ]
    }
   ],
   "source": [
    "# Examine how the model performs using crosstable\n",
    "\n",
    "prediction = model.predict(X)\n",
    "\n",
    "predictions_transformed = []\n",
    "\n",
    "for i in range(len(prediction)):\n",
    "    if prediction[i] == 0:\n",
    "        predictions_transformed.append(3)\n",
    "    elif prediction[i] == 1:\n",
    "        predictions_transformed.append(1)\n",
    "    elif prediction[i] == 2:\n",
    "        predictions_transformed.append(6)\n",
    "    elif prediction[i] == 3:\n",
    "        predictions_transformed.append(7)\n",
    "    elif prediction[i] == 4:\n",
    "        predictions_transformed.append(0)\n",
    "    elif prediction[i] == 5:\n",
    "        predictions_transformed.append(2)\n",
    "    elif prediction[i] == 6:\n",
    "        predictions_transformed.append(5)\n",
    "    elif prediction[i] == 7:\n",
    "        predictions_transformed.append(4)\n",
    "    elif prediction[i] == 8:\n",
    "        predictions_transformed.append(8)\n",
    "    elif prediction[i] == 9:\n",
    "        predictions_transformed.append(9) \n",
    "\n",
    "df = pd.DataFrame({\"predicted_digits\": np.array(predictions_transformed), \"actual_digits\": digits.target})\n",
    "\n",
    "ct = pd.crosstab(df[\"predicted_digits\"], df[\"actual_digits\"])\n",
    "print(ct)"
   ]
  },
  {
   "cell_type": "markdown",
   "id": "468201b3",
   "metadata": {},
   "source": [
    "The model performs okay but not too well"
   ]
  },
  {
   "cell_type": "code",
   "execution_count": 14,
   "id": "639c4b0c",
   "metadata": {},
   "outputs": [
    {
     "name": "stdout",
     "output_type": "stream",
     "text": [
      "[0 1 2 ... 8 9 8]\n",
      "[0 8 8 ... 8 9 9]\n"
     ]
    }
   ],
   "source": [
    "print(digits.target)\n",
    "print(np.array(predictions_transformed))"
   ]
  },
  {
   "cell_type": "markdown",
   "id": "2774086d",
   "metadata": {},
   "source": [
    "Testing the model on new data.\n",
    "I used a matrix generator to generate the arrays of four different handwritten digits: 3241\n",
    "The matrix is called new_samples below"
   ]
  },
  {
   "cell_type": "code",
   "execution_count": 15,
   "id": "19015f06",
   "metadata": {},
   "outputs": [
    {
     "data": {
      "text/plain": [
       "<Figure size 640x480 with 0 Axes>"
      ]
     },
     "metadata": {},
     "output_type": "display_data"
    },
    {
     "data": {
      "image/png": "[encoded data removed]",
      "text/plain": [
       "<Figure size 480x480 with 1 Axes>"
      ]
     },
     "metadata": {},
     "output_type": "display_data"
    },
    {
     "data": {
      "image/png": "[encoded data removed]",
      "text/plain": [
       "<Figure size 480x480 with 1 Axes>"
      ]
     },
     "metadata": {},
     "output_type": "display_data"
    },
    {
     "data": {
      "image/png": "[encoded data removed]",
      "text/plain": [
       "<Figure size 480x480 with 1 Axes>"
      ]
     },
     "metadata": {},
     "output_type": "display_data"
    },
    {
     "data": {
      "image/png": "[encoded data removed]",
      "text/plain": [
       "<Figure size 480x480 with 1 Axes>"
      ]
     },
     "metadata": {},
     "output_type": "display_data"
    }
   ],
   "source": [
    "new_samples = np.array([\n",
    "[0.00,0.00,0.00,0.00,0.00,0.00,0.00,0.00,0.00,3.66,6.10,5.11,0.15,0.00,0.00,0.00,0.00,6.79,6.94,7.62,2.74,0.00,0.00,0.00,0.00,2.13,1.45,7.55,4.35,0.00,0.00,0.00,0.00,0.46,7.17,7.62,7.01,2.29,0.00,0.00,0.00,0.54,4.19,4.96,7.32,6.25,0.00,0.00,0.00,4.88,7.62,7.62,7.62,7.09,0.00,0.00,0.00,0.61,1.52,1.52,1.52,0.61,0.00,0.00],\n",
    "[0.00,0.00,0.00,0.00,0.00,0.00,0.00,0.00,0.00,0.00,3.20,5.34,2.36,0.00,0.00,0.00,0.00,1.37,7.62,7.55,6.25,0.00,0.00,0.00,0.00,1.14,7.40,5.41,7.47,0.00,0.00,0.00,0.00,0.00,0.08,5.41,7.17,0.00,0.00,0.00,0.00,1.75,7.55,7.62,7.24,4.58,0.00,0.00,0.00,0.38,2.97,3.74,4.88,4.19,0.00,0.00,0.00,0.00,0.00,0.00,0.00,0.00,0.00,0.00],\n",
    "[0.00,0.00,1.30,0.92,0.00,0.00,0.00,0.00,0.00,0.00,6.56,4.58,1.07,1.14,0.00,0.00,0.00,0.15,7.63,3.89,5.79,5.34,0.00,0.00,0.00,1.22,7.62,6.63,7.17,5.57,0.00,0.00,0.00,0.15,3.97,5.11,6.71,7.17,0.00,0.00,0.00,0.00,0.00,0.00,3.81,7.63,0.00,0.00,0.00,0.00,0.00,0.00,1.07,3.20,0.00,0.00,0.00,0.00,0.00,0.00,0.00,0.00,0.00,0.00],\n",
    "[0.00,0.00,0.00,0.00,0.38,1.07,0.00,0.00,0.00,0.00,0.00,0.23,5.64,7.47,0.00,0.00,0.00,0.00,0.23,5.87,7.62,7.63,0.00,0.00,0.00,0.00,5.72,7.55,6.56,6.86,0.00,0.00,0.00,0.00,4.50,2.44,4.57,6.86,0.00,0.00,0.00,0.00,0.00,0.00,4.42,7.32,0.00,0.00,0.00,0.00,0.00,0.00,2.52,6.18,0.00,0.00,0.00,0.00,0.00,0.00,0.00,0.00,0.00,0.00]\n",
    "])\n",
    "plt.gray()\n",
    "for i in range(4):\n",
    "    plt.matshow(new_samples[i].reshape(8,8))\n"
   ]
  },
  {
   "cell_type": "code",
   "execution_count": 16,
   "id": "df63bcaa",
   "metadata": {},
   "outputs": [
    {
     "name": "stdout",
     "output_type": "stream",
     "text": [
      "[6 7 1 1]\n"
     ]
    }
   ],
   "source": [
    "# Using the model to predict the handwritten number 3241 (if the model performs accurate the number should be recognized)\n",
    "new_labels = model.predict(new_samples)\n",
    "print(new_labels)"
   ]
  },
  {
   "cell_type": "code",
   "execution_count": 17,
   "id": "c0a64fbd",
   "metadata": {},
   "outputs": [
    {
     "name": "stdout",
     "output_type": "stream",
     "text": [
      "4511"
     ]
    }
   ],
   "source": [
    "# Transforming the digits\n",
    "for i in range(len(new_labels)):\n",
    "  if new_labels[i] == 0:\n",
    "    print(3, end='')\n",
    "  elif new_labels[i] == 1:\n",
    "    print(1, end='')\n",
    "  elif new_labels[i] == 2:\n",
    "    print(6, end='')\n",
    "  elif new_labels[i] == 3:\n",
    "    print(7, end='')\n",
    "  elif new_labels[i] == 4:\n",
    "    print(0, end='')\n",
    "  elif new_labels[i] == 5:\n",
    "    print(2, end='')\n",
    "  elif new_labels[i] == 6:\n",
    "    print(4, end='')\n",
    "  elif new_labels[i] == 7:\n",
    "    print(5, end='')\n",
    "  elif new_labels[i] == 8:\n",
    "    print(8, end='')\n",
    "  elif new_labels[i] == 9:\n",
    "    print(9, end='')"
   ]
  },
  {
   "cell_type": "markdown",
   "id": "d3202a14",
   "metadata": {},
   "source": [
    "My handwriting must be really bad"
   ]
  }
 ],
 "metadata": {
  "kernelspec": {
   "display_name": "Python 3 (ipykernel)",
   "language": "python",
   "name": "python3"
  },
  "language_info": {
   "codemirror_mode": {
    "name": "ipython",
    "version": 3
   },
   "file_extension": ".py",
   "mimetype": "text/x-python",
   "name": "python",
   "nbconvert_exporter": "python",
   "pygments_lexer": "ipython3",
   "version": "3.9.13"
  }
 },
 "nbformat": 4,
 "nbformat_minor": 5
}
